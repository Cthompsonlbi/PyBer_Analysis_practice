{
 "cells": [
  {
   "cell_type": "code",
   "execution_count": null,
   "id": "0df18754-a171-47ff-b4dd-1c6eeb16d21f",
   "metadata": {},
   "outputs": [],
   "source": [
    "%matplotlib inline"
   ]
  },
  {
   "cell_type": "code",
   "execution_count": null,
   "id": "e4405eb1-8a8c-4e4f-a123-3c0991228175",
   "metadata": {},
   "outputs": [],
   "source": [
    "import matplotlib.pyplot as plt"
   ]
  },
  {
   "cell_type": "code",
   "execution_count": null,
   "id": "646e6320-1657-4c53-a2c1-c768766cdd83",
   "metadata": {},
   "outputs": [],
   "source": [
    "# Set the x-axis to a list of strings for each month.\n",
    "x_axis = [\"Jan\", \"Feb\", \"Mar\", \"April\", \"May\", \"June\", \"July\", \"Aug\", \"Sept\", \"Oct\", \"Nov\", \"Dec\"]\n",
    "\n",
    "# Set the y-axis to a list of floats as the total fare in US dollars accumulated for each month.\n",
    "y_axis = [10.02, 23.24, 39.20, 35.42, 32.34, 27.04, 43.82, 10.56, 11.85, 27.90, 20.71, 20.09]"
   ]
  },
  {
   "cell_type": "code",
   "execution_count": null,
   "id": "4f8768ce-8d19-45f8-8501-21572206c92d",
   "metadata": {},
   "outputs": [],
   "source": [
    "# Create the plot\n",
    "plt.plot(x_axis, y_axis)"
   ]
  },
  {
   "cell_type": "code",
   "execution_count": null,
   "id": "eca8c412-f6b4-41dc-bca0-f0ff08b61539",
   "metadata": {},
   "outputs": [],
   "source": [
    "#Create the plot with as.plt()\n",
    "fig, ax = plt.subplots()\n",
    "ax.plot(x_axis, y_axis)"
   ]
  },
  {
   "cell_type": "code",
   "execution_count": null,
   "id": "a0c89e2b-6a5d-4e44-b8f3-ab1b5d377dcd",
   "metadata": {},
   "outputs": [],
   "source": [
    "# Create the plot with ax.plt()\n",
    "fig = plt.figure()\n",
    "ax =  fig.add_subplot()\n",
    "ax.plot(x_axis, y_axis)"
   ]
  },
  {
   "cell_type": "code",
   "execution_count": null,
   "id": "4cd8d503-59fe-4824-a594-6793aea3a067",
   "metadata": {},
   "outputs": [],
   "source": [
    "# Create the plot with ax.plt()\n",
    "ax = plt.axes()\n",
    "ax.plot(x_axis, y_axis)"
   ]
  },
  {
   "cell_type": "code",
   "execution_count": null,
   "id": "eaba2164-42f9-453b-841c-a4ed9639e94a",
   "metadata": {},
   "outputs": [],
   "source": [
    "#create the plot\n",
    "plt.plot(x_axis, y_axis)\n",
    "plt.show()"
   ]
  },
  {
   "cell_type": "code",
   "execution_count": null,
   "id": "d1175ccf-79b1-49ce-99b9-e336dc423880",
   "metadata": {},
   "outputs": [],
   "source": [
    "#Create the plot and add a label for the legend\n",
    "plt.plot(x_axis, y_axis, label = 'Boston')\n",
    "# Create labels for the x and y axes.\n",
    "plt.xlabel(\"Date\")\n",
    "plt.ylabel(\"Fare($)\")\n",
    "#Set the y limit between 0 and 45.\n",
    "plt.ylim(0, 45)\n",
    "#Create a title.\n",
    "plt.title(\"PyBer Fare by Month\")\n",
    "#Add the legend.\n",
    "plt.legend()"
   ]
  },
  {
   "cell_type": "code",
   "execution_count": null,
   "id": "14b55bbd-4b10-4c75-a7ab-dad37aa0b430",
   "metadata": {},
   "outputs": [],
   "source": [
    "#Create the plot and add a label for the legend\n",
    "plt.plot(x_axis, y_axis,marker = \"*\", color = \"blue\", linewidth = 2, label = 'Boston')\n",
    "# Create labels for the x and y axes.\n",
    "plt.xlabel(\"Date\")\n",
    "plt.ylabel(\"Fare($)\")\n",
    "#Set the y limit between 0 and 45.\n",
    "plt.ylim(0, 45)\n",
    "#Create a title.\n",
    "plt.title(\"PyBer Fare by Month\")\n",
    "#Add the legend.\n",
    "plt.legend()"
   ]
  },
  {
   "cell_type": "code",
   "execution_count": null,
   "id": "69d3368b-55f0-4d27-8b90-8bd163cb9b16",
   "metadata": {},
   "outputs": [],
   "source": [
    "ax = plt.axes()\n",
    "ax.plot(x_axis, y_axis, marker = \"*\", color = \"green\", linewidth = 2,label=\"Boston\")\n",
    "ax.set_xlabel(\"Months\")\n",
    "ax.set_ylabel(\"fares($)\")\n",
    "ax.set_title(\" PyBer Fare Per Month\")\n",
    "ax.set_ylim(0,45)\n",
    "ax.legend()"
   ]
  },
  {
   "cell_type": "code",
   "execution_count": null,
   "id": "e7e4619a-b230-4ea9-ac3f-4aac53246c2a",
   "metadata": {},
   "outputs": [],
   "source": [
    "#Set the x-axis to a list of strings for each month.\n",
    "x_axis = [\"Jan\", \"Feb\", \"Mar\", \"April\", \"May\", \"June\", \"July\", \"Aug\", \"Sept\", \"Oct\", \"Nov\", \"Dec\"]\n",
    "\n",
    "# Set the y-axis to a list of floats as the total fare in US dollars accumulated for each month.\n",
    "y_axis = [10.02, 23.24, 39.20, 35.42, 32.34, 27.04, 43.82, 10.56, 11.85, 27.90, 20.71, 20.09]\n",
    "\n",
    "#Create the plot\n",
    "plt.bar(x_axis, y_axis)"
   ]
  },
  {
   "cell_type": "code",
   "execution_count": null,
   "id": "7e66e12c-2f86-4165-8f39-9a224d70e52c",
   "metadata": {},
   "outputs": [],
   "source": [
    "#Create the plot.\n",
    "plt.bar(x_axis, y_axis, color=\"green\", label=\"Boston\")\n",
    "#Create labels for the x and y axes\n",
    "plt.xlabel(\"Date\")\n",
    "plt.ylabel(\"Fare($)\")\n",
    "#Create a title\n",
    "plt.title(\"PyBer Fare by Month\")\n",
    "#Add the legend.\n",
    "plt.legend()"
   ]
  },
  {
   "cell_type": "code",
   "execution_count": null,
   "id": "1913412f-7959-4b8b-96ab-e899285a58f7",
   "metadata": {},
   "outputs": [],
   "source": [
    "#Create the plot\n",
    "plt.barh(x_axis, y_axis)"
   ]
  },
  {
   "cell_type": "code",
   "execution_count": null,
   "id": "db7be66d-2021-4e67-8c6b-a8da22f49201",
   "metadata": {},
   "outputs": [],
   "source": [
    "#Create the plot.\n",
    "plt.barh(x_axis, y_axis, color = \"magenta\", label = \"Boston\")\n",
    "plt.ylabel(\"Date\")\n",
    "plt.xlabel(\"Fare($)\")\n",
    "plt.legend()\n",
    "plt.gca().invert_yaxis()"
   ]
  },
  {
   "cell_type": "code",
   "execution_count": null,
   "id": "ba297d39-cadc-48ad-a25c-3b9d002dd857",
   "metadata": {},
   "outputs": [],
   "source": [
    "# Set the x-axis to a list of strings for each month.\n",
    "x_axis = [\"Jan\", \"Feb\", \"Mar\", \"April\", \"May\", \"June\", \"July\", \"Aug\", \"Sept\", \"Oct\", \"Nov\", \"Dec\"]\n",
    "\n",
    "# Set the y-axis to a list of floats as the total fare in US dollars accumulated for each month.\n",
    "y_axis = [10.02, 23.24, 39.20, 35.42, 32.34, 27.04, 43.82, 10.56, 11.85, 27.90, 20.71, 20.09]"
   ]
  },
  {
   "cell_type": "code",
   "execution_count": null,
   "id": "8ff60c4d-d101-4b9a-ae29-63a77e1677b9",
   "metadata": {},
   "outputs": [],
   "source": [
    "# create the plot with ax.plt()\n",
    "fig, ax = plt.subplots()\n",
    "ax.bar(x_axis, y_axis)"
   ]
  },
  {
   "cell_type": "code",
   "execution_count": null,
   "id": "6f0309fb-336f-453e-a5e5-7b6956059ea9",
   "metadata": {},
   "outputs": [],
   "source": [
    "# Create the  horizontal plot with ax.plt()\n",
    "fig, ax = plt.subplots()\n",
    "ax.barh(x_axis, y_axis)"
   ]
  },
  {
   "cell_type": "code",
   "execution_count": null,
   "id": "f84b4232-9a21-40d2-a43e-4060d579d492",
   "metadata": {},
   "outputs": [],
   "source": [
    "fig, ax = plt.subplots()\n",
    "ax.barh(y_axis, x_axis)"
   ]
  },
  {
   "cell_type": "code",
   "execution_count": null,
   "id": "633f1e6e-ed52-47d6-9e53-d641bf26c70e",
   "metadata": {},
   "outputs": [],
   "source": [
    "# Create the  horizontal plot with ax.plt()\n",
    "fig, ax = plt.subplots()\n",
    "ax.barh(x_axis, y_axis, color = \"cyan\", label = \"Chicago\")\n",
    "ax.legend()\n",
    "ax.set_xlabel(\"Fares ($)\")\n",
    "ax.set_ylabel(\"Month\")\n",
    "ax.invert_yaxis()"
   ]
  },
  {
   "cell_type": "code",
   "execution_count": null,
   "id": "35cab344-b64e-45bb-b222-9e33b13f248f",
   "metadata": {},
   "outputs": [],
   "source": [
    "plt.plot(y_axis, x_axis,'o', color = \"red\", label = \"Chicago\")\n",
    "plt.legend()\n",
    "plt.ylabel(\"Date\")\n",
    "plt.xlabel(\"Fares\")\n",
    "plt.scatter(y_axis, x_axis,)\n",
    "plt.xlim(0, 45)\n",
    "plt.gca().invert_yaxis()\n"
   ]
  },
  {
   "cell_type": "code",
   "execution_count": null,
   "id": "ab20b78b-1ef1-409d-8fa6-6f516370ee5a",
   "metadata": {},
   "outputs": [],
   "source": [
    "    \n",
    "plt.scatter(x_axis,y_axis, s=[i * 3 for i in y_axis])"
   ]
  },
  {
   "cell_type": "code",
   "execution_count": null,
   "id": "7125cd2f-98b7-41e2-a2c8-ba32c4e54e13",
   "metadata": {},
   "outputs": [],
   "source": [
    "fig, ax = plt.subplots()\n",
    "ax.scatter(x_axis, y_axis)"
   ]
  },
  {
   "cell_type": "code",
   "execution_count": null,
   "id": "ffebab2a-9936-4208-9ec1-4ea7a33379d7",
   "metadata": {},
   "outputs": [],
   "source": [
    "fig, ax = plt.subplots()\n",
    "ax.scatter(y_axis, x_axis, edgecolor=\"black\", color = \"skyblue\", alpha=0.20,linewidth = 2, s=[i * 5 for i in y_axis], label = 'Boston')\n",
    "ax.legend()\n",
    "ax.set_title (\"PyBer Fare by Month\")\n",
    "ax.set_xlim(0,45)\n",
    "ax.invert_yaxis()"
   ]
  },
  {
   "cell_type": "code",
   "execution_count": null,
   "id": "393bceb6-5e94-4544-b0e6-32bd3bdc1d61",
   "metadata": {},
   "outputs": [],
   "source": [
    "plt.pie(y_axis, labels = x_axis)\n",
    "plt.show()"
   ]
  },
  {
   "cell_type": "code",
   "execution_count": null,
   "id": "2bb861bb-789e-47cf-aec4-0b96b870843e",
   "metadata": {},
   "outputs": [],
   "source": [
    "colors = [\"slateblue\", \"magenta\", \"lightblue\", \"green\", \"yellowgreen\", \"greenyellow\", \"yellow\", \"orange\", \"gold\", \"indianred\", \"tomato\", \"mistyrose\"]\n",
    "plt.subplots(figsize=(8,8))\n",
    "explode_values= (0,0,0,0,0,0,0.2,0,0,0,0,0)\n",
    "plt.pie(y_axis, explode=explode_values, labels=x_axis, autopct='%.1f%%', colors = colors)"
   ]
  },
  {
   "cell_type": "code",
   "execution_count": null,
   "id": "9af5f736-0f29-463c-8fd6-47f5a88e3b94",
   "metadata": {},
   "outputs": [],
   "source": [
    "fig, ax = plt.subplots()\n",
    "ax.pie(y_axis, labels = x_axis)\n",
    "ax.figsize (8,8)\n",
    "plt.show()"
   ]
  },
  {
   "cell_type": "code",
   "execution_count": null,
   "id": "dc532f34-47a9-42e7-b5ab-42131486f47d",
   "metadata": {},
   "outputs": [],
   "source": []
  }
 ],
 "metadata": {
  "kernelspec": {
   "display_name": "PythonData",
   "language": "python",
   "name": "pythondata"
  },
  "language_info": {
   "codemirror_mode": {
    "name": "ipython",
    "version": 3
   },
   "file_extension": ".py",
   "mimetype": "text/x-python",
   "name": "python",
   "nbconvert_exporter": "python",
   "pygments_lexer": "ipython3",
   "version": "3.7.10"
  }
 },
 "nbformat": 4,
 "nbformat_minor": 5
}
